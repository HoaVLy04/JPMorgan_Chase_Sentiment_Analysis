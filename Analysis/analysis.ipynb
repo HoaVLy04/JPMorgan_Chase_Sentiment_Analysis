{
 "cells": [
  {
   "cell_type": "code",
   "execution_count": null,
   "id": "b01021d1",
   "metadata": {},
   "outputs": [],
   "source": [
    "import pandas as pd\n",
    "import numpy as np\n",
    "import re\n",
    "from collections import Counter\n",
    "from wordcloud import WordCloud\n",
    "import matplotlib.pyplot as plt\n",
    "import seaborn as sns\n",
    "from sklearn.linear_model import LogisticRegression\n",
    "from sklearn.model_selection import train_test_split\n",
    "from sklearn.metrics import classification_report, confusion_matrix\n",
    "import nltk\n",
    "from nltk.sentiment.vader import SentimentIntensityAnalyzer\n",
    "from nltk.tokenize import word_tokenize\n",
    "from nltk.corpus import stopwords\n",
    "nltk.download('vader_lexicon')\n",
    "nltk.download('punkt_tab')\n",
    "nltk.download('stopwords')"
   ]
  },
  {
   "cell_type": "code",
   "execution_count": null,
   "id": "95b70b14",
   "metadata": {},
   "outputs": [],
   "source": [
    "complaints_df = pd.read_csv('complaints.csv')"
   ]
  },
  {
   "cell_type": "code",
   "execution_count": null,
   "id": "c4479470",
   "metadata": {},
   "outputs": [],
   "source": [
    "complaints_df['Date received'] = pd.to_datetime(complaints_df['Date received'], format='%m/%d/%Y', errors='coerce')\n",
    "complaints_df['Date sent to company'] = pd.to_datetime(complaints_df['Date sent to company'], format='%m/%d/%Y', errors='coerce')"
   ]
  },
  {
   "cell_type": "code",
   "execution_count": null,
   "id": "9a157e68",
   "metadata": {},
   "outputs": [],
   "source": [
    "if 'Tags' in complaints_df.columns:\n",
    "    complaints_df['Tags'] = complaints_df['Tags'].str.split(', ')\n",
    "    complaints_df = complaints_df.explode('Tags')"
   ]
  },
  {
   "cell_type": "code",
   "execution_count": null,
   "id": "82dc6a37",
   "metadata": {},
   "outputs": [],
   "source": [
    "complaints_df = complaints_df.replace('', np.nan)"
   ]
  },
  {
   "cell_type": "code",
   "execution_count": null,
   "id": "5d04c02a",
   "metadata": {},
   "outputs": [],
   "source": [
    "for col in complaints_df.select_dtypes(include='object').columns:\n",
    "    complaints_df[col] = complaints_df[col].replace('N/A', np.nan)"
   ]
  },
  {
   "cell_type": "code",
   "execution_count": null,
   "id": "e85957ad",
   "metadata": {},
   "outputs": [],
   "source": [
    "unique_counts = complaints_df.nunique()\n",
    "print(\"\\nUnique value counts per column:\")\n",
    "print(unique_counts)"
   ]
  },
  {
   "cell_type": "code",
   "execution_count": null,
   "id": "f45f3a40",
   "metadata": {},
   "outputs": [],
   "source": [
    "top_5_companies = complaints_df['Company'].value_counts().head(5)\n",
    "print(\"\\nTop 5 companies with the most records:\")\n",
    "print(top_5_companies)"
   ]
  },
  {
   "cell_type": "code",
   "execution_count": null,
   "id": "9d917082",
   "metadata": {},
   "outputs": [],
   "source": [
    "if 'Consumer complaint narrative' not in complaints_df.columns:\n",
    "    print(\"\\nError: 'Consumer complaint narrative' column not found. Cannot proceed with sentiment analysis.\")\n",
    "    exit()"
   ]
  },
  {
   "cell_type": "code",
   "execution_count": null,
   "id": "a0a2b465",
   "metadata": {},
   "outputs": [],
   "source": [
    "jpm_complaints_df = complaints_df[complaints_df['Company'] == \"JPMORGAN CHASE & CO.\"].copy()\n",
    "jpm_complaints_df['tokenized_narrative'] = jpm_complaints_df['Consumer complaint narrative'].astype(str).apply(word_tokenize)"
   ]
  },
  {
   "cell_type": "code",
   "execution_count": null,
   "id": "8a1471bf",
   "metadata": {},
   "outputs": [],
   "source": [
    "sid = SentimentIntensityAnalyzer()"
   ]
  },
  {
   "cell_type": "code",
   "execution_count": null,
   "id": "ab6c60d9",
   "metadata": {},
   "outputs": [],
   "source": [
    "jpm_complaints_df['sentiment_scores'] = jpm_complaints_df['Consumer complaint narrative'].astype(str).apply(sid.polarity_scores)\n",
    "jpm_complaints_df['compound_sentiment'] = jpm_complaints_df['sentiment_scores'].apply(lambda x: x['compound'])\n",
    "jpm_complaints_df['negative_sentiment'] = jpm_complaints_df['sentiment_scores'].apply(lambda x: x['neg'])\n",
    "stop_words = set(stopwords.words('english'))\n",
    "negative_words_list = []\n",
    "for index, row in jpm_complaints_df.iterrows():\n",
    "    if row['negative_sentiment'] > 0.5: # A threshold for 'highly negative'\n",
    "        tokens = [word.lower() for word in row['tokenized_narrative'] if word.isalpha() and word.lower() not in stop_words]\n",
    "        negative_words_list.extend(tokens)\n",
    "negative_word_count = Counter(negative_words_list) # Top 50 negative words\n",
    "print(\"\\nTop negative words for JPMorgan Chase & Co. (based on VADER):\")\n",
    "print(negative_word_count)"
   ]
  },
  {
   "cell_type": "code",
   "execution_count": null,
   "id": "876e2492",
   "metadata": {},
   "outputs": [],
   "source": [
    "if negative_word_count:\n",
    "    wordcloud = WordCloud(width=800, height=400, background_color='white').generate_from_frequencies(dict(negative_word_count))\n",
    "    plt.figure(figsize=(10, 5))\n",
    "    plt.imshow(wordcloud, interpolation='bilinear')\n",
    "    plt.axis('off')\n",
    "    plt.title('Negative Word Cloud for JPMorgan Chase & Co. Complaints')\n",
    "    plt.show()\n",
    "else:\n",
    "    print(\"No sufficiently negative words found to generate a word cloud.\")"
   ]
  },
  {
   "cell_type": "code",
   "execution_count": null,
   "id": "a4bc6b24",
   "metadata": {},
   "outputs": [],
   "source": [
    "product_sentiment = jpm_complaints_df.groupby('Product')['compound_sentiment'].mean().reset_index()\n",
    "product_sentiment = product_sentiment.sort_values(by='compound_sentiment', ascending=False)\n",
    "\n",
    "plt.figure(figsize=(12, 7))\n",
    "sns.barplot(x='Product', y='compound_sentiment', data=product_sentiment, palette='viridis')\n",
    "plt.title('Average Compound Sentiment by Product for JPMorgan Chase & Co.')\n",
    "plt.xlabel('Product')\n",
    "plt.ylabel('Average Compound Sentiment')\n",
    "plt.xticks(rotation=45, ha='right')\n",
    "plt.tight_layout()\n",
    "plt.show()"
   ]
  }
 ],
 "metadata": {
  "language_info": {
   "name": "python"
  }
 },
 "nbformat": 4,
 "nbformat_minor": 5
}
